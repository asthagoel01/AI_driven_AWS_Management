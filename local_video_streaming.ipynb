{
 "cells": [
  {
   "cell_type": "code",
   "execution_count": 2,
   "id": "df3e6c28",
   "metadata": {},
   "outputs": [],
   "source": [
    "''''import cv2\n",
    "import os\n",
    "import boto3\n",
    "cap=cv2.VideoCapture(0)\n",
    "# click a photo\n",
    "status,photo=cap.read()\n",
    "cv2.imshow(\"my pic\",photo)\n",
    "cv2.waitKey()\n",
    "# vedio\n",
    "while True:\n",
    "    status,photo=cap.read()\n",
    "    cv2.imshow(\"my pic\",photo)\n",
    "    if cv2.waitKey()==13:\n",
    "        cv2.destroyAllWindows()\n",
    "        break\n",
    "cv2.destroyAllWindows()\n",
    "cap.release()\n",
    "\n",
    "##when time is mentioned:\n",
    "# jo bhi key == ke udhar likhi hoti hai uske alwa koi bhi key press krne pr next pic click ho jaati h irrespective of waiting time\n",
    "# agr cross press krte hai toh wait time poora hone pr next pic click ho jayegi\n",
    "# agr == key press krte h toh vedio pause hogi aur tbhi destroy hogi jab destroyAllWindows krenge\n",
    "# break se pehle destro krlo ya break hone ke baad next cell mei destro karo\n",
    "\n",
    "##when time is not mentioned:\n",
    "# jo bhi key == ke udhar likhi hoti hai uske alwa koi bhi key press krne pr next pic click ho jaati h\n",
    "# agr cross press krte hai toh toorant next pic click ho jayegi\n",
    "# agr == key press krte h toh vedio pause hogi aur tbhi destroy hogi jab destroyAllWindows krenge\n",
    "# break se pehle destro krlo ya break hone ke baad next cell mei destro karo\n",
    "\n",
    "cap=cv2.VideoCapture(0)\n",
    "# click a photo\n",
    "status,photo=cap.read()\n",
    "cv2.imshow(\"my pic\",photo)\n",
    "cv2.waitKey(3000)\n",
    "cv2.destroyAllWindows() \n",
    "#in case of picture, \n",
    "#window is not destroying itself even if time is mentioned so in case of photo it doesn't matter if time is there or not we need to use destroyAllWindows always.\n",
    "#if time is not mentioned we can cross, we then don't require to use destroyAllWindows\n",
    "\n",
    "cap.release()\n",
    "\n",
    "photo\n",
    "from cvzone.HandTrackingModule import HandDetector\n",
    "detector=HandDetector()\n",
    "handphoto= detector.findHands(photo,draw=True) #by default,it draws line of detection or we can say draw=True by default: also if we set draw=False it still shows detection line if it was true before so we have to click photo again\n",
    "handphoto[0]\n",
    "cv2.imshow(\"my\",handphoto[1])\n",
    "cv2.waitKey()\n",
    "lmlist=handphoto[0][0]\n",
    "fingerstatus=detector.fingersUp(lmlist)\n",
    "count_fingers=0\n",
    "for finger in fingerstatus:\n",
    "    if finger==1:\n",
    "        count_fingers+=1\n",
    "if count_fingers == 1 :\n",
    "    print(\"one up\")\n",
    "    #create an ec2 instance\n",
    "    myec2=boto3.resource('ec2')\n",
    "    response=myec2.create_instances(ImageId=\"ami-02bb7d8191b50f4bb\",InstanceType=\"t2.micro\",MaxCount=1,MinCount=1)\n",
    "elif count_fingers ==2 :\n",
    "    print(\"two up\")\n",
    "    #create IAM user\n",
    "    myuser=boto3.client('iam')\n",
    "    response = myuser.create_user(UserName='ast123')\n",
    "elif count_fingers ==3:\n",
    "    print(\"three up\")\n",
    "    #create s3 bucket\n",
    "    mys3=boto3.resource('s3')\n",
    "    mys3.create_bucket(Bucket='astbucket123',CreateBucketConfiguration={'LocationConstraint': 'ap-south-1'})\n",
    "elif count_fingers == 4:\n",
    "    print(\"four up\")\n",
    "    #delete created s3 bucket   \n",
    "    deletes3 = boto3.resource('s3')\n",
    "    bucket = deletes3.Bucket('astbucket123')\n",
    "    bucket.delete()\n",
    "elif count_fingers == 5:\n",
    "    print(\"all up\")\n",
    "    #delete created aws instance\n",
    "    os.system(\"\")\n",
    "else:\n",
    "    print(\"no action\")'''"
   ]
  },
  {
   "cell_type": "code",
   "execution_count": 1,
   "id": "ed0f4dea",
   "metadata": {},
   "outputs": [],
   "source": [
    "import boto3"
   ]
  },
  {
   "cell_type": "code",
   "execution_count": 2,
   "id": "26a82996",
   "metadata": {},
   "outputs": [],
   "source": [
    "import cv2"
   ]
  },
  {
   "cell_type": "code",
   "execution_count": 3,
   "id": "121068f6",
   "metadata": {},
   "outputs": [],
   "source": [
    "cap=cv2.VideoCapture(0)"
   ]
  },
  {
   "cell_type": "code",
   "execution_count": 4,
   "id": "c8b6254d",
   "metadata": {},
   "outputs": [],
   "source": [
    "from cvzone.HandTrackingModule import HandDetector"
   ]
  },
  {
   "cell_type": "code",
   "execution_count": 5,
   "id": "8985cba9",
   "metadata": {},
   "outputs": [],
   "source": [
    "detector=HandDetector()"
   ]
  },
  {
   "cell_type": "code",
   "execution_count": 6,
   "id": "3b176580",
   "metadata": {},
   "outputs": [],
   "source": [
    "import os"
   ]
  },
  {
   "cell_type": "code",
   "execution_count": 7,
   "id": "e21b41ff",
   "metadata": {},
   "outputs": [],
   "source": [
    "myec2=boto3.resource('ec2')"
   ]
  },
  {
   "cell_type": "code",
   "execution_count": 8,
   "id": "770b602e",
   "metadata": {},
   "outputs": [
    {
     "name": "stdout",
     "output_type": "stream",
     "text": [
      "two up\n",
      "three up\n",
      "four up\n",
      "two up\n"
     ]
    },
    {
     "ename": "EntityAlreadyExistsException",
     "evalue": "An error occurred (EntityAlreadyExists) when calling the CreateUser operation: User with name ast123 already exists.",
     "output_type": "error",
     "traceback": [
      "\u001b[1;31m---------------------------------------------------------------------------\u001b[0m",
      "\u001b[1;31mEntityAlreadyExistsException\u001b[0m              Traceback (most recent call last)",
      "Cell \u001b[1;32mIn[8], line 24\u001b[0m\n\u001b[0;32m     22\u001b[0m \u001b[38;5;66;03m#create IAM user\u001b[39;00m\n\u001b[0;32m     23\u001b[0m         myuser\u001b[38;5;241m=\u001b[39mboto3\u001b[38;5;241m.\u001b[39mclient(\u001b[38;5;124m'\u001b[39m\u001b[38;5;124miam\u001b[39m\u001b[38;5;124m'\u001b[39m)\n\u001b[1;32m---> 24\u001b[0m         response \u001b[38;5;241m=\u001b[39m \u001b[43mmyuser\u001b[49m\u001b[38;5;241;43m.\u001b[39;49m\u001b[43mcreate_user\u001b[49m\u001b[43m(\u001b[49m\u001b[43mUserName\u001b[49m\u001b[38;5;241;43m=\u001b[39;49m\u001b[38;5;124;43m'\u001b[39;49m\u001b[38;5;124;43mast123\u001b[39;49m\u001b[38;5;124;43m'\u001b[39;49m\u001b[43m)\u001b[49m\n\u001b[0;32m     25\u001b[0m     \u001b[38;5;28;01melif\u001b[39;00m count_fingers \u001b[38;5;241m==\u001b[39m\u001b[38;5;241m3\u001b[39m:\n\u001b[0;32m     26\u001b[0m         \u001b[38;5;28mprint\u001b[39m(\u001b[38;5;124m\"\u001b[39m\u001b[38;5;124mthree up\u001b[39m\u001b[38;5;124m\"\u001b[39m)\n",
      "File \u001b[1;32m~\\anaconda3\\envs\\env1\\lib\\site-packages\\botocore\\client.py:535\u001b[0m, in \u001b[0;36mClientCreator._create_api_method.<locals>._api_call\u001b[1;34m(self, *args, **kwargs)\u001b[0m\n\u001b[0;32m    531\u001b[0m     \u001b[38;5;28;01mraise\u001b[39;00m \u001b[38;5;167;01mTypeError\u001b[39;00m(\n\u001b[0;32m    532\u001b[0m         \u001b[38;5;124mf\u001b[39m\u001b[38;5;124m\"\u001b[39m\u001b[38;5;132;01m{\u001b[39;00mpy_operation_name\u001b[38;5;132;01m}\u001b[39;00m\u001b[38;5;124m() only accepts keyword arguments.\u001b[39m\u001b[38;5;124m\"\u001b[39m\n\u001b[0;32m    533\u001b[0m     )\n\u001b[0;32m    534\u001b[0m \u001b[38;5;66;03m# The \"self\" in this scope is referring to the BaseClient.\u001b[39;00m\n\u001b[1;32m--> 535\u001b[0m \u001b[38;5;28;01mreturn\u001b[39;00m \u001b[38;5;28;43mself\u001b[39;49m\u001b[38;5;241;43m.\u001b[39;49m\u001b[43m_make_api_call\u001b[49m\u001b[43m(\u001b[49m\u001b[43moperation_name\u001b[49m\u001b[43m,\u001b[49m\u001b[43m \u001b[49m\u001b[43mkwargs\u001b[49m\u001b[43m)\u001b[49m\n",
      "File \u001b[1;32m~\\anaconda3\\envs\\env1\\lib\\site-packages\\botocore\\client.py:980\u001b[0m, in \u001b[0;36mBaseClient._make_api_call\u001b[1;34m(self, operation_name, api_params)\u001b[0m\n\u001b[0;32m    978\u001b[0m     error_code \u001b[38;5;241m=\u001b[39m parsed_response\u001b[38;5;241m.\u001b[39mget(\u001b[38;5;124m\"\u001b[39m\u001b[38;5;124mError\u001b[39m\u001b[38;5;124m\"\u001b[39m, {})\u001b[38;5;241m.\u001b[39mget(\u001b[38;5;124m\"\u001b[39m\u001b[38;5;124mCode\u001b[39m\u001b[38;5;124m\"\u001b[39m)\n\u001b[0;32m    979\u001b[0m     error_class \u001b[38;5;241m=\u001b[39m \u001b[38;5;28mself\u001b[39m\u001b[38;5;241m.\u001b[39mexceptions\u001b[38;5;241m.\u001b[39mfrom_code(error_code)\n\u001b[1;32m--> 980\u001b[0m     \u001b[38;5;28;01mraise\u001b[39;00m error_class(parsed_response, operation_name)\n\u001b[0;32m    981\u001b[0m \u001b[38;5;28;01melse\u001b[39;00m:\n\u001b[0;32m    982\u001b[0m     \u001b[38;5;28;01mreturn\u001b[39;00m parsed_response\n",
      "\u001b[1;31mEntityAlreadyExistsException\u001b[0m: An error occurred (EntityAlreadyExists) when calling the CreateUser operation: User with name ast123 already exists."
     ]
    }
   ],
   "source": [
    "while True:\n",
    "    status,photo=cap.read()\n",
    "    cv2.imshow(\"my pic\",photo)\n",
    "    if cv2.waitKey(10)==13:\n",
    "        cv2.destroyAllWindows()\n",
    "        break\n",
    "    handphoto= detector.findHands(photo,draw=True) #by default,it draws line of detection or we can say draw=True by default: also if we set draw=False it still shows detection line if it was true before so we have to click photo again\n",
    "    if handphoto[0]:\n",
    "        lmlist=handphoto[0][0]\n",
    "        fingerstatus=detector.fingersUp(lmlist)\n",
    "        count_fingers=0\n",
    "        for finger in fingerstatus:\n",
    "            if finger==1:\n",
    "                count_fingers+=1\n",
    "        if count_fingers == 1 :\n",
    "            print(\"one up\")\n",
    "    #create an ec2 instance\n",
    "            myec2=boto3.resource('ec2')\n",
    "            response=myec2.create_instances(ImageId=\"ami-02bb7d8191b50f4bb\",InstanceType=\"t2.micro\",MaxCount=1,MinCount=1)\n",
    "        elif count_fingers ==2 :\n",
    "            print(\"two up\")\n",
    "    #create IAM user\n",
    "            myuser=boto3.client('iam')\n",
    "            response = myuser.create_user(UserName='ast123')\n",
    "        elif count_fingers ==3:\n",
    "            print(\"three up\")\n",
    "    #create s3 bucket\n",
    "            mys3=boto3.resource('s3')\n",
    "            mys3.create_bucket(Bucket='astbucket123',CreateBucketConfiguration={'LocationConstraint': 'ap-south-1'})\n",
    "        elif count_fingers == 4:\n",
    "            print(\"four up\")\n",
    "    #delete created s3 bucket   \n",
    "            deletes3 = boto3.resource('s3')\n",
    "            bucket = deletes3.Bucket('astbucket123')\n",
    "            bucket.delete()\n",
    "        elif count_fingers == 5:\n",
    "            print(\"all up\")\n",
    "        else:\n",
    "            print(\"no action\")\n",
    "\n",
    "    else:\n",
    "        continue"
   ]
  },
  {
   "cell_type": "code",
   "execution_count": 17,
   "id": "a5adcdf0",
   "metadata": {},
   "outputs": [],
   "source": [
    "cap.release()"
   ]
  },
  {
   "cell_type": "code",
   "execution_count": null,
   "id": "c38c1dc1",
   "metadata": {},
   "outputs": [],
   "source": []
  },
  {
   "cell_type": "code",
   "execution_count": null,
   "id": "1e6a0c95",
   "metadata": {},
   "outputs": [],
   "source": []
  }
 ],
 "metadata": {
  "kernelspec": {
   "display_name": "Python 3 (ipykernel)",
   "language": "python",
   "name": "python3"
  },
  "language_info": {
   "codemirror_mode": {
    "name": "ipython",
    "version": 3
   },
   "file_extension": ".py",
   "mimetype": "text/x-python",
   "name": "python",
   "nbconvert_exporter": "python",
   "pygments_lexer": "ipython3",
   "version": "3.9.7"
  }
 },
 "nbformat": 4,
 "nbformat_minor": 5
}
